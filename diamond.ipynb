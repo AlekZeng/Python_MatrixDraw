{
 "cells": [
  {
   "cell_type": "code",
   "execution_count": 7,
   "metadata": {
    "collapsed": false
   },
   "outputs": [
    {
     "name": "stdout",
     "output_type": "stream",
     "text": [
      "max row length= 6\n",
      "* \n",
      "* * \n",
      "* * * \n",
      "* * * * \n",
      "* * * * * \n",
      "* * * * * * \n",
      "* * * * * \n",
      "* * * * \n",
      "* * * \n",
      "* * \n",
      "* \n"
     ]
    }
   ],
   "source": [
    "n=int(input(\"max row length= \"))\n",
    "m=n+1\n",
    "for i in range(1,m):\n",
    "    for x in range(i):\n",
    "        print(\"*\",end=\" \")\n",
    "    print() \n",
    "for i in range(n,1,-1):\n",
    "        for x in range(i-1):\n",
    "            print(\"*\",end=\" \")\n",
    "        print()"
   ]
  },
  {
   "cell_type": "code",
   "execution_count": null,
   "metadata": {
    "collapsed": false
   },
   "outputs": [],
   "source": []
  },
  {
   "cell_type": "code",
   "execution_count": 8,
   "metadata": {
    "collapsed": false
   },
   "outputs": [
    {
     "name": "stdout",
     "output_type": "stream",
     "text": [
      "          * \n",
      "         * * \n",
      "        * * * \n",
      "       * * * * \n",
      "      * * * * * \n",
      "     * * * * * * \n",
      "    * * * * * * * \n",
      "   * * * * * * * * \n",
      "  * * * * * * * * * \n",
      " * * * * * * * * * * \n",
      "                                                                                                              * * * * * * * * * \n",
      "                                                                                          * * * * * * * * \n",
      "                                                                        * * * * * * * \n",
      "                                                        * * * * * * \n",
      "                                          * * * * * \n",
      "                              * * * * \n",
      "                    * * * \n",
      "            * * \n",
      "      * \n"
     ]
    }
   ],
   "source": [
    "n=10\n",
    "m=n+1 \n",
    "rownum=1\n",
    "for i in range(1,m):\n",
    "    r=n\n",
    "    while r>=rownum:\n",
    "        print(\" \",end=\"\")\n",
    "        r=r-1\n",
    "    for x in range(i):\n",
    "       \n",
    "        print(\"*\",end=\" \")\n",
    "    print() \n",
    "    rownum=rownum+1\n",
    "\n",
    "r=n+1\n",
    "for i in range(n,1,-1):\n",
    "    for s in range(i):\n",
    "        n=0\n",
    "        while n<=s :\n",
    "            print(\" \",end=\" \")\n",
    "            n=n+1\n",
    "    for x in range(i-1): \n",
    "        print(\"*\",end=\" \")\n",
    "    print()\n",
    "            "
   ]
  },
  {
   "cell_type": "code",
   "execution_count": 60,
   "metadata": {
    "collapsed": false
   },
   "outputs": [
    {
     "name": "stdout",
     "output_type": "stream",
     "text": [
      " *\n"
     ]
    }
   ],
   "source": [
    "print(\" \",end=\"\")\n",
    "print(\"*\")"
   ]
  },
  {
   "cell_type": "code",
   "execution_count": 12,
   "metadata": {
    "collapsed": false
   },
   "outputs": [
    {
     "name": "stdout",
     "output_type": "stream",
     "text": [
      "\n",
      "          \n",
      "         * \n",
      "        * * \n",
      "       * * * \n",
      "      * * * * \n",
      "       * * * \n",
      "        * * \n",
      "         * \n",
      "\n",
      "          \n",
      "         * \n",
      "        * * \n",
      "       * * * \n",
      "      * * * * \n",
      "       * * * \n",
      "        * * \n",
      "         * \n"
     ]
    }
   ],
   "source": [
    "def diamond(x,y,n):    \n",
    "    for i in range(y+1):\n",
    "        print()\n",
    "    \n",
    "    for z in range(n):  \n",
    "        # num of rows\n",
    "        u=0\n",
    "        while u<x:\n",
    "            print(\" \",end=\"\")\n",
    "            u=u+1\n",
    "        for i in range(n-z):\n",
    "        # num of spaces in row    \n",
    "            print(\" \",end=\"\")\n",
    "        for i in range(z):\n",
    "        #num of stars in row     \n",
    "            print(\"*\",end=\" \") \n",
    "        print() \n",
    "        #switch to next row\n",
    "    \n",
    "    for z in range(1,n+1):\n",
    "        u=0\n",
    "        while u<x:\n",
    "            print(\" \",end=\"\")\n",
    "            u=u+1\n",
    "        for i in range(z-1):\n",
    "            print(\" \",end=\"\")\n",
    "        for i in range(n-(z-1)):\n",
    "            print(\"*\" ,end=\" \")\n",
    "        print()    \n",
    "\n",
    "diamond(6,0,4)\n",
    "diamond(6,0,4)"
   ]
  },
  {
   "cell_type": "code",
   "execution_count": 31,
   "metadata": {
    "collapsed": false
   },
   "outputs": [
    {
     "name": "stdout",
     "output_type": "stream",
     "text": [
      "  *   *\n",
      " *** ***\n",
      "*********\n",
      " *** ***\n",
      "  *   *\n"
     ]
    }
   ],
   "source": [
    "l1=[[0,0,1,0,0,0,1,n],[0,1,1,1,0,1,1,1,n],[1,1,1,1,1,1,1,1,1,n],[0,1,1,1,0,1,1,1,n],[0,0,1,0,0,0,1,n]]\n",
    "    \n",
    "\n",
    "\n",
    "    \n",
    "    \n",
    "for n in range(5):    \n",
    "    for x in l1[n]:\n",
    "        if x==0:\n",
    "            print(\" \",end=\"\")\n",
    "        elif x==1:\n",
    "            print(\"*\" ,end=\"\")\n",
    "        \n",
    "    print()\n"
   ]
  },
  {
   "cell_type": "code",
   "execution_count": 17,
   "metadata": {
    "collapsed": false
   },
   "outputs": [
    {
     "name": "stdout",
     "output_type": "stream",
     "text": [
      "**************************************************\n",
      "**************************************************\n",
      "**************************************************\n",
      "**************************************************\n",
      "**************************************************\n",
      "**************************************************\n",
      "**************************************************\n",
      "************ ** **********************************\n",
      "*********** *  * *********************************\n",
      "********** ** *** ********************************\n",
      "********* ** ***** *******************************\n",
      "******** ** ******* ******************************\n",
      "******* ** ********* *****************************\n",
      "****** ** *********** ****************************\n",
      "******* ** ********* *****************************\n",
      "******** ** ******* ******************************\n",
      "********* ** ***** *******************************\n",
      "********** ** *** ********************************\n",
      "*********** *  * *********************************\n",
      "************ ** **********************************\n",
      "**************************************************\n",
      "**************************************************\n",
      "**************************************************\n",
      "**************************************************\n",
      "**************************************************\n",
      "**************************************************\n",
      "**************************************************\n",
      "**************************************************\n",
      "**************************************************\n",
      "**************************************************\n",
      "**************************************************\n",
      "**************************************************\n",
      "**************************************************\n",
      "**************************************************\n",
      "**************************************************\n",
      "**************************************************\n",
      "**************************************************\n",
      "**************************************************\n",
      "**************************************************\n",
      "**************************************************\n",
      "**************************************************\n",
      "**************************************************\n",
      "**************************************************\n",
      "**************************************************\n",
      "**************************************************\n",
      "**************************************************\n",
      "**************************************************\n",
      "**************************************************\n",
      "**************************************************\n",
      "**************************************************\n"
     ]
    }
   ],
   "source": [
    "global MatrixSize\n",
    "global matrix\n",
    "matrix=[]\n",
    "MatrixSize = 50\n",
    "\n",
    "def CreateMatrix(): \n",
    "    \n",
    "    for x in range(MatrixSize):    \n",
    "        matrix.append([])\n",
    "        for n in range(MatrixSize):\n",
    "            matrix[x].append(1)\n",
    "\n",
    "def DrawMatrix():    \n",
    "    for n in range(MatrixSize):    \n",
    "        for x in matrix[n]:\n",
    "            if x==0:\n",
    "                print(\" \",end=\"\")\n",
    "            elif x==1:\n",
    "                print(\"*\" ,end=\"\")\n",
    "        \n",
    "        print()\n",
    "        \n",
    "        \n",
    "def SetValueMatrix(x,y,value):\n",
    "    matrix[y][x] = value\n",
    "    #Truexy=(y*MatrixSize)-(MatrixSize-x)\n",
    "    #matrix.insert((Truexy),value)\n",
    "\n",
    "\n",
    "def DrawDiamond(x,y,n,z):    \n",
    "    global removeSP\n",
    "    removeSP=1\n",
    "    SP=1\n",
    "    for row in range(n):\n",
    "        for star in range(1,row):\n",
    "            SetValueMatrix(x+n-removeSP,y+row,z)\n",
    "            for sec in range(star):\n",
    "                SetValueMatrix(x+n-removeSP+sec,y+row,z)\n",
    "            removeSP=removeSP-1\n",
    "        removeSP=1\n",
    "        removeSP=removeSP+SP\n",
    "        SP=SP+1 \n",
    "    SP=1\n",
    "    removeSP=n+1\n",
    "    for row in range(n,2*n):\n",
    "        for star in range(1,2*n-row):\n",
    "            SetValueMatrix(x+n-removeSP,y+row,z)\n",
    "            for sec in range(star):\n",
    "                SetValueMatrix(x+n-removeSP+sec,y+row,z)\n",
    "            removeSP=removeSP-1\n",
    "        removeSP=n+1\n",
    "        removeSP=removeSP-SP\n",
    "        SP=SP+1\n",
    "      \n",
    "def DiamondOutline(x,y,n,t):\n",
    "\n",
    "    DrawDiamond(x,y,n,0)        \n",
    "    DrawDiamond(x+t,y+t,n-t,1)\n",
    "\n",
    "CreateMatrix()\n",
    "DiamondOutline(7,5,8,1)\n",
    "DiamondOutline(10,5,8,1)\n",
    "DrawMatrix()\n"
   ]
  },
  {
   "cell_type": "markdown",
   "metadata": {
    "collapsed": false
   },
   "source": [
    "##### def DrawDiamond(x,y,n):    \n",
    "    global removeSP\n",
    "    removeSP=1\n",
    "    SP=1\n",
    "    for row in range(n):\n",
    "        for star in range(row):\n",
    "            SetValueMatrix(x+n-removeSP,y+row,0)\n",
    "            removeSP=removeSP-1\n",
    "        removeSP=1\n",
    "        removeSP=removeSP+SP\n",
    "        SP=SP+1 "
   ]
  },
  {
   "cell_type": "code",
   "execution_count": null,
   "metadata": {
    "collapsed": true
   },
   "outputs": [],
   "source": [
    "def DrawCircle(a,b,r):\n",
    "    for x in range(r):\n",
    "        x=y+r\n",
    "        for n in range\n",
    "        (x−a)^2+(y−b )^2=r^2\n"
   ]
  }
 ],
 "metadata": {
  "anaconda-cloud": {},
  "kernelspec": {
   "display_name": "Python [default]",
   "language": "python",
   "name": "python3"
  },
  "language_info": {
   "codemirror_mode": {
    "name": "ipython",
    "version": 3
   },
   "file_extension": ".py",
   "mimetype": "text/x-python",
   "name": "python",
   "nbconvert_exporter": "python",
   "pygments_lexer": "ipython3",
   "version": "3.5.2"
  }
 },
 "nbformat": 4,
 "nbformat_minor": 1
}
